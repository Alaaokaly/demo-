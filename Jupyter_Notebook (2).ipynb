{
 "cells": [
  {
   "cell_type": "markdown",
   "metadata": {},
   "source": [
    "<center>\n",
    "    <img src=\"https://s3-api.us-geo.objectstorage.softlayer.net/cf-courses-data/CognitiveClass/Logos/organization_logo/organization_logo.png\" width=\"300\" alt=\"cognitiveclass.ai logo\"  />\n",
    "</center>\n"
   ]
  },
  {
   "cell_type": "markdown",
   "metadata": {},
   "source": [
    "#### Add your code below following the instructions given in the course\n"
   ]
  },
  {
   "cell_type": "markdown",
   "metadata": {},
   "source": [
    "<h1 > \"My Jupyter Notebook on IBM Watson Studio\" </h1>"
   ]
  },
  {
   "cell_type": "markdown",
   "metadata": {},
   "source": [
    "**Alaa Adel Abd-Elhamid**\n",
    "<br>I desire to be a data analyist or buisnes analyist \n"
   ]
  },
  {
   "cell_type": "markdown",
   "metadata": {},
   "source": [
    "*I am interested in data science because I love looking behind the data and always looking for more insights*"
   ]
  },
  {
   "cell_type": "markdown",
   "metadata": {},
   "source": [
    "<h3>  my code is supposte to take a set  of numbers <br>and print the number in that set if the number is bigger than 5  </h3>"
   ]
  },
  {
   "cell_type": "code",
   "execution_count": 3,
   "metadata": {},
   "outputs": [
    {
     "name": "stdout",
     "output_type": "stream",
     "text": [
      " this is the code cell \n",
      " it is supposite to run python code in the jupyter NB\n",
      " the number 9 is bigger than  5 \n",
      " the number 8 is bigger than  5 \n",
      " the number 7 is bigger than  5 \n"
     ]
    }
   ],
   "source": [
    "print(\" this is the code cell \\n it is supposite to run python code in the jupyter NB\")\n",
    "setNUM = [1,5,9,8,7,2]\n",
    "for number in setNUM :\n",
    "    if number > 5:\n",
    "        print(\" the number\", number,\"is bigger than  5 \")"
   ]
  },
  {
   "cell_type": "markdown",
   "metadata": {
    "jp-MarkdownHeadingCollapsed": true,
    "tags": []
   },
   "source": [
    "\n",
    " - used in making hyperlinks such as : \n",
    "[link text](http://url)\n",
    " - used in highliting\n",
    " - used in making tables\n",
    " - used in making number lists like:\n",
    " 1. the 1st\n",
    " 2. the 2ed\n",
    " 3. and on \n",
    " ***\n",
    " |----|----|\n",
    " | Name|Quntity |\n",
    "|-----|----------|\n",
    "|banana|3K|\n",
    "|Apple|5K|\n",
    "|Ananas||"
   ]
  },
  {
   "cell_type": "code",
   "execution_count": null,
   "metadata": {},
   "outputs": [],
   "source": []
  },
  {
   "cell_type": "code",
   "execution_count": null,
   "metadata": {},
   "outputs": [],
   "source": []
  }
 ],
 "metadata": {
  "kernelspec": {
   "display_name": "Python",
   "language": "python",
   "name": "conda-env-python-py"
  },
  "language_info": {
   "codemirror_mode": {
    "name": "ipython",
    "version": 3
   },
   "file_extension": ".py",
   "mimetype": "text/x-python",
   "name": "python",
   "nbconvert_exporter": "python",
   "pygments_lexer": "ipython3",
   "version": "3.7.12"
  }
 },
 "nbformat": 4,
 "nbformat_minor": 4
}
